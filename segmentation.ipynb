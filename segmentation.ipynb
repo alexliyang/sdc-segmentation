{
 "cells": [
  {
   "cell_type": "code",
   "execution_count": 1,
   "metadata": {
    "collapsed": false
   },
   "outputs": [
    {
     "name": "stdout",
     "output_type": "stream",
     "text": [
      "1.3.0\n"
     ]
    }
   ],
   "source": [
    "from __future__ import print_function\n",
    "\n",
    "%matplotlib inline\n",
    "\n",
    "import sys\n",
    "import tensorflow as tf\n",
    "from collections import OrderedDict\n",
    "\n",
    "import numpy as np\n",
    "import scipy.misc\n",
    "from input import *\n",
    "from model import *\n",
    "from train import *\n",
    "import matplotlib.pyplot as plt\n",
    "tf.reset_default_graph()"
   ]
  },
  {
   "cell_type": "code",
   "execution_count": 2,
   "metadata": {
    "collapsed": false
   },
   "outputs": [],
   "source": [
    "image_shape = (160,576)\n",
    "iterator, filename = get_train_inputs(batch_size=100,repeat=False,num_classes=2, image_shape=image_shape)"
   ]
  },
  {
   "cell_type": "code",
   "execution_count": 3,
   "metadata": {
    "collapsed": false,
    "scrolled": false
   },
   "outputs": [],
   "source": [
    "_show = False\n",
    "if _show:\n",
    "    with tf.Session() as sess:\n",
    "        sess.run(iterator.initializer, feed_dict={filename: ['data/kitti_segmentation.tfrecord']})\n",
    "        next_element = iterator.get_next()\n",
    "        i = 1\n",
    "        while i < 5:\n",
    "            i += 1\n",
    "            print(\"*\"*10)\n",
    "            image, label = sess.run(next_element)\n",
    "            new = scipy.misc.imresize(image,(160*2,576*2) )\n",
    "            plt.imshow(image[:,:,:])\n",
    "            plt.show()\n",
    "            plt.imshow(new[:,:,:])\n",
    "#             plt.imshow(label[:,:,0], cmap='jet', alpha=0.5)\n",
    "            plt.show()\n",
    "            print(new.shape, image.shape)"
   ]
  },
  {
   "cell_type": "code",
   "execution_count": 4,
   "metadata": {
    "collapsed": true
   },
   "outputs": [],
   "source": [
    "# record_iterator = tf.python_io.tf_record_iterator(path='data/kitti_segmentation.tfrecord')\n",
    "# string_record = next(record_iterator)\n",
    "# example = tf.train.Example()\n",
    "# example.ParseFromString(string_record)"
   ]
  },
  {
   "cell_type": "markdown",
   "metadata": {},
   "source": [
    "## Model"
   ]
  },
  {
   "cell_type": "code",
   "execution_count": 5,
   "metadata": {
    "collapsed": false
   },
   "outputs": [],
   "source": [
    "encoder = SlimModelEncoder(name=\"vgg_16\", num_classes=2, is_training=True)\n",
    "image, label = iterator.get_next()\n",
    "init_fn, end_points = encoder.build(image=image, image_shape=image_shape)"
   ]
  },
  {
   "cell_type": "code",
   "execution_count": 6,
   "metadata": {
    "collapsed": false
   },
   "outputs": [
    {
     "data": {
      "text/plain": [
       "odict_keys(['vgg_16/conv1/conv1_1', 'vgg_16/conv1/conv1_2', 'vgg_16/pool1', 'vgg_16/conv2/conv2_1', 'vgg_16/conv2/conv2_2', 'vgg_16/pool2', 'vgg_16/conv3/conv3_1', 'vgg_16/conv3/conv3_2', 'vgg_16/conv3/conv3_3', 'vgg_16/pool3', 'vgg_16/conv4/conv4_1', 'vgg_16/conv4/conv4_2', 'vgg_16/conv4/conv4_3', 'vgg_16/pool4', 'vgg_16/conv5/conv5_1', 'vgg_16/conv5/conv5_2', 'vgg_16/conv5/conv5_3', 'vgg_16/pool5', 'vgg_16/fc6', 'vgg_16/fc7', 'vgg_16/fc8'])"
      ]
     },
     "execution_count": 6,
     "metadata": {},
     "output_type": "execute_result"
    }
   ],
   "source": [
    "end_points.keys()"
   ]
  },
  {
   "cell_type": "code",
   "execution_count": 7,
   "metadata": {
    "collapsed": false
   },
   "outputs": [
    {
     "name": "stdout",
     "output_type": "stream",
     "text": [
      "Tensor(\"vgg_16/conv3/conv3_3/Relu:0\", shape=(1, 40, 144, 256), dtype=float32)\n",
      "Tensor(\"vgg_16/conv4/conv4_3/Relu:0\", shape=(1, 20, 72, 512), dtype=float32)\n",
      "Tensor(\"vgg_16/conv5/conv5_3/Relu:0\", shape=(1, 10, 36, 512), dtype=float32)\n",
      "Tensor(\"vgg_16/fc6/Relu:0\", shape=(1, 5, 18, 4096), dtype=float32)\n",
      "Tensor(\"vgg_16/fc7/Relu:0\", shape=(1, 5, 18, 4096), dtype=float32)\n"
     ]
    }
   ],
   "source": [
    "print(end_points['vgg_16/conv3/conv3_3'], \n",
    "    end_points['vgg_16/conv4/conv4_3'], \n",
    "    end_points['vgg_16/conv5/conv5_3'],\n",
    "    end_points['vgg_16/fc6'],\n",
    "    end_points['vgg_16/fc7'],sep='\\n')"
   ]
  },
  {
   "cell_type": "code",
   "execution_count": 8,
   "metadata": {
    "collapsed": true
   },
   "outputs": [],
   "source": [
    "decoder = FCNDecoder(end_points, nb_classes=2, scope='fcn')"
   ]
  },
  {
   "cell_type": "code",
   "execution_count": 9,
   "metadata": {
    "collapsed": true
   },
   "outputs": [],
   "source": [
    "tensors_to_connect = OrderedDict()\n",
    "tensors_to_connect[\"vgg_16/fc7\"] = (2,2)\n",
    "tensors_to_connect['vgg_16/conv5/conv5_3'] = (2,2)\n",
    "tensors_to_connect['vgg_16/conv4/conv4_3'] = (8,8)"
   ]
  },
  {
   "cell_type": "code",
   "execution_count": 10,
   "metadata": {
    "collapsed": false
   },
   "outputs": [],
   "source": [
    "net = decoder.build(tensors_to_connect)"
   ]
  },
  {
   "cell_type": "markdown",
   "metadata": {},
   "source": [
    "## Train"
   ]
  },
  {
   "cell_type": "code",
   "execution_count": 11,
   "metadata": {
    "collapsed": false
   },
   "outputs": [],
   "source": [
    "trainer = Trainer(nb_classes=2, optimizer=tf.train.AdamOptimizer, learning_rate=5e-5)"
   ]
  },
  {
   "cell_type": "code",
   "execution_count": null,
   "metadata": {
    "collapsed": false
   },
   "outputs": [
    {
     "name": "stdout",
     "output_type": "stream",
     "text": [
      "pred shape (92160, 2), label shape (92160, 2)\n"
     ]
    }
   ],
   "source": [
    "trainer.build(predictions=net, labels=label)"
   ]
  },
  {
   "cell_type": "code",
   "execution_count": null,
   "metadata": {
    "collapsed": false
   },
   "outputs": [
    {
     "name": "stdout",
     "output_type": "stream",
     "text": [
      "INFO:tensorflow:Starting Session.\n",
      "INFO:tensorflow:Saving checkpoint to path /tmp/tf/model.ckpt\n",
      "INFO:tensorflow:Starting Queues.\n",
      "INFO:tensorflow:global_step/sec: 0\n",
      "INFO:tensorflow:global step 1: loss = 0.6957 (7.701 sec/step)\n",
      "INFO:tensorflow:global step 2: loss = 0.6958 (2.600 sec/step)\n",
      "INFO:tensorflow:Recording summary at step 2.\n",
      "INFO:tensorflow:global step 3: loss = 0.6955 (2.239 sec/step)\n",
      "INFO:tensorflow:global step 4: loss = 0.6952 (2.106 sec/step)\n",
      "INFO:tensorflow:global step 5: loss = 0.6953 (2.081 sec/step)\n",
      "INFO:tensorflow:global step 6: loss = 0.6954 (2.133 sec/step)\n",
      "INFO:tensorflow:global step 7: loss = 0.6950 (2.250 sec/step)\n",
      "INFO:tensorflow:global step 8: loss = 0.6951 (2.221 sec/step)\n",
      "INFO:tensorflow:global step 9: loss = 0.6950 (2.196 sec/step)\n",
      "INFO:tensorflow:global step 10: loss = 0.6950 (2.140 sec/step)\n",
      "INFO:tensorflow:global step 11: loss = 0.6950 (2.270 sec/step)\n",
      "INFO:tensorflow:global step 12: loss = 0.6947 (2.164 sec/step)\n",
      "INFO:tensorflow:global step 13: loss = 0.6950 (2.235 sec/step)\n",
      "INFO:tensorflow:global step 14: loss = 0.6947 (2.321 sec/step)\n",
      "INFO:tensorflow:global step 15: loss = 0.6950 (2.174 sec/step)\n",
      "INFO:tensorflow:global step 16: loss = 0.6950 (2.128 sec/step)\n",
      "INFO:tensorflow:global step 17: loss = 0.6949 (2.522 sec/step)\n",
      "INFO:tensorflow:global step 18: loss = 0.6949 (2.107 sec/step)\n",
      "INFO:tensorflow:global step 19: loss = 0.6950 (2.095 sec/step)\n",
      "INFO:tensorflow:global step 20: loss = 0.6950 (2.365 sec/step)\n",
      "INFO:tensorflow:global step 21: loss = 0.6948 (2.167 sec/step)\n",
      "INFO:tensorflow:global step 22: loss = 0.6947 (2.102 sec/step)\n",
      "INFO:tensorflow:global step 23: loss = 0.6945 (2.105 sec/step)\n",
      "INFO:tensorflow:global step 24: loss = 0.6947 (2.250 sec/step)\n",
      "INFO:tensorflow:global step 25: loss = 0.6946 (2.167 sec/step)\n",
      "INFO:tensorflow:global step 26: loss = 0.6947 (2.115 sec/step)\n",
      "INFO:tensorflow:global step 27: loss = 0.6946 (2.214 sec/step)\n",
      "INFO:tensorflow:global step 28: loss = 0.6945 (2.137 sec/step)\n",
      "INFO:tensorflow:global step 29: loss = 0.6944 (2.179 sec/step)\n",
      "INFO:tensorflow:global step 30: loss = 0.6943 (2.154 sec/step)\n",
      "INFO:tensorflow:global step 31: loss = 0.6942 (2.121 sec/step)\n",
      "INFO:tensorflow:global step 32: loss = 0.6942 (2.103 sec/step)\n",
      "INFO:tensorflow:global step 33: loss = 0.6941 (2.089 sec/step)\n",
      "INFO:tensorflow:global step 34: loss = 0.6943 (2.094 sec/step)\n",
      "INFO:tensorflow:global step 35: loss = 0.6941 (2.097 sec/step)\n",
      "INFO:tensorflow:global step 36: loss = 0.6938 (2.085 sec/step)\n",
      "INFO:tensorflow:global step 37: loss = 0.6936 (2.097 sec/step)\n",
      "INFO:tensorflow:global step 38: loss = 0.6936 (2.104 sec/step)\n"
     ]
    }
   ],
   "source": [
    "trainer.train(iterator,['data/kitti_segmentation.tfrecord'])"
   ]
  },
  {
   "cell_type": "code",
   "execution_count": null,
   "metadata": {
    "collapsed": false
   },
   "outputs": [],
   "source": [
    "tf.trainable_variables()"
   ]
  },
  {
   "cell_type": "code",
   "execution_count": null,
   "metadata": {
    "collapsed": true
   },
   "outputs": [],
   "source": [
    "variables = tf.get_collection(tf.GraphKeys.TRAINABLE_VARIABLES, 'fcn')"
   ]
  },
  {
   "cell_type": "code",
   "execution_count": null,
   "metadata": {
    "collapsed": false
   },
   "outputs": [],
   "source": [
    "variables"
   ]
  },
  {
   "cell_type": "code",
   "execution_count": null,
   "metadata": {
    "collapsed": false
   },
   "outputs": [],
   "source": [
    "from tensorflow.python.framework import ops"
   ]
  },
  {
   "cell_type": "code",
   "execution_count": null,
   "metadata": {
    "collapsed": false
   },
   "outputs": [],
   "source": [
    "ops.get_collection(ops.GraphKeys.LOSSES)"
   ]
  },
  {
   "cell_type": "code",
   "execution_count": null,
   "metadata": {
    "collapsed": false
   },
   "outputs": [],
   "source": [
    "ops.get_collection(ops.GraphKeys.REGULARIZATION_LOSSES,'fcn')"
   ]
  },
  {
   "cell_type": "code",
   "execution_count": null,
   "metadata": {
    "collapsed": true
   },
   "outputs": [],
   "source": []
  }
 ],
 "metadata": {
  "kernelspec": {
   "display_name": "Python 3",
   "language": "python",
   "name": "python3"
  },
  "language_info": {
   "codemirror_mode": {
    "name": "ipython",
    "version": 3
   },
   "file_extension": ".py",
   "mimetype": "text/x-python",
   "name": "python",
   "nbconvert_exporter": "python",
   "pygments_lexer": "ipython3",
   "version": "3.6.0"
  }
 },
 "nbformat": 4,
 "nbformat_minor": 1
}
