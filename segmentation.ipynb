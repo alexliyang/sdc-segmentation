{
 "cells": [
  {
   "cell_type": "code",
   "execution_count": 1,
   "metadata": {},
   "outputs": [
    {
     "name": "stdout",
     "output_type": "stream",
     "text": [
      "1.3.0\n"
     ]
    }
   ],
   "source": [
    "from __future__ import print_function\n",
    "\n",
    "%matplotlib inline\n",
    "\n",
    "import sys\n",
    "import tensorflow as tf\n",
    "from tensorflow.python.framework import ops\n",
    "from tensorflow.contrib.framework.python.ops import variables\n",
    "\n",
    "from collections import OrderedDict\n",
    "\n",
    "import numpy as np\n",
    "import scipy.misc\n",
    "from input import *\n",
    "from model import *\n",
    "from train import *\n",
    "import matplotlib.pyplot as plt\n",
    "tf.reset_default_graph()"
   ]
  },
  {
   "cell_type": "code",
   "execution_count": 2,
   "metadata": {},
   "outputs": [],
   "source": [
    "image_shape = (160,576)\n",
    "iterator, filename = get_train_inputs(batch_size=100,\n",
    "                                      repeat=True, \n",
    "                                      num_classes=2, \n",
    "                                      image_shape=image_shape)"
   ]
  },
  {
   "cell_type": "code",
   "execution_count": 3,
   "metadata": {
    "scrolled": false
   },
   "outputs": [],
   "source": [
    "_show = False\n",
    "if _show:\n",
    "    with tf.Session() as sess:\n",
    "        sess.run(iterator.initializer, feed_dict={filename: ['data/kitti_segmentation.tfrecord']})\n",
    "        next_element = iterator.get_next()\n",
    "        i = 1\n",
    "        while i < 10:\n",
    "            i += 1\n",
    "            print(\"*\"*10)\n",
    "            image, label = sess.run(next_element)\n",
    "            print(image.shape, label.shape)\n",
    "            plt.imshow(np.uint8(image))\n",
    "            plt.imshow(label[:,:,0], cmap='jet', alpha=0.5)\n",
    "            plt.show()"
   ]
  },
  {
   "cell_type": "code",
   "execution_count": 4,
   "metadata": {
    "collapsed": true
   },
   "outputs": [],
   "source": [
    "# record_iterator = tf.python_io.tf_record_iterator(path='data/kitti_segmentation.tfrecord')\n",
    "# string_record = next(record_iterator)\n",
    "# example = tf.train.Example()\n",
    "# example.ParseFromString(string_record)"
   ]
  },
  {
   "cell_type": "markdown",
   "metadata": {},
   "source": [
    "## Model"
   ]
  },
  {
   "cell_type": "code",
   "execution_count": 5,
   "metadata": {},
   "outputs": [],
   "source": [
    "encoder = SlimModelEncoder(name=\"vgg_16\", num_classes=2, is_training=True)\n",
    "image, label = iterator.get_next()\n",
    "assign_op, feed_dict, end_points = encoder.build(image=image, image_shape=image_shape)"
   ]
  },
  {
   "cell_type": "code",
   "execution_count": 6,
   "metadata": {},
   "outputs": [
    {
     "data": {
      "text/plain": [
       "odict_keys(['vgg_16/conv1/conv1_1', 'vgg_16/conv1/conv1_2', 'vgg_16/pool1', 'vgg_16/conv2/conv2_1', 'vgg_16/conv2/conv2_2', 'vgg_16/pool2', 'vgg_16/conv3/conv3_1', 'vgg_16/conv3/conv3_2', 'vgg_16/conv3/conv3_3', 'vgg_16/pool3', 'vgg_16/conv4/conv4_1', 'vgg_16/conv4/conv4_2', 'vgg_16/conv4/conv4_3', 'vgg_16/pool4', 'vgg_16/conv5/conv5_1', 'vgg_16/conv5/conv5_2', 'vgg_16/conv5/conv5_3', 'vgg_16/pool5', 'vgg_16/fc6', 'vgg_16/fc7', 'vgg_16/fc8'])"
      ]
     },
     "execution_count": 6,
     "metadata": {},
     "output_type": "execute_result"
    }
   ],
   "source": [
    "end_points.keys()"
   ]
  },
  {
   "cell_type": "code",
   "execution_count": 7,
   "metadata": {},
   "outputs": [
    {
     "data": {
      "text/plain": [
       "[<tf.Tensor 'vgg_16/conv1/conv1_1/kernel/Regularizer/l2_regularizer:0' shape=() dtype=float32>,\n",
       " <tf.Tensor 'vgg_16/conv1/conv1_2/kernel/Regularizer/l2_regularizer:0' shape=() dtype=float32>,\n",
       " <tf.Tensor 'vgg_16/conv2/conv2_1/kernel/Regularizer/l2_regularizer:0' shape=() dtype=float32>,\n",
       " <tf.Tensor 'vgg_16/conv2/conv2_2/kernel/Regularizer/l2_regularizer:0' shape=() dtype=float32>,\n",
       " <tf.Tensor 'vgg_16/conv3/conv3_1/kernel/Regularizer/l2_regularizer:0' shape=() dtype=float32>,\n",
       " <tf.Tensor 'vgg_16/conv3/conv3_2/kernel/Regularizer/l2_regularizer:0' shape=() dtype=float32>,\n",
       " <tf.Tensor 'vgg_16/conv3/conv3_3/kernel/Regularizer/l2_regularizer:0' shape=() dtype=float32>,\n",
       " <tf.Tensor 'vgg_16/conv4/conv4_1/kernel/Regularizer/l2_regularizer:0' shape=() dtype=float32>,\n",
       " <tf.Tensor 'vgg_16/conv4/conv4_2/kernel/Regularizer/l2_regularizer:0' shape=() dtype=float32>,\n",
       " <tf.Tensor 'vgg_16/conv4/conv4_3/kernel/Regularizer/l2_regularizer:0' shape=() dtype=float32>,\n",
       " <tf.Tensor 'vgg_16/conv5/conv5_1/kernel/Regularizer/l2_regularizer:0' shape=() dtype=float32>,\n",
       " <tf.Tensor 'vgg_16/conv5/conv5_2/kernel/Regularizer/l2_regularizer:0' shape=() dtype=float32>,\n",
       " <tf.Tensor 'vgg_16/conv5/conv5_3/kernel/Regularizer/l2_regularizer:0' shape=() dtype=float32>,\n",
       " <tf.Tensor 'vgg_16/fc6/kernel/Regularizer/l2_regularizer:0' shape=() dtype=float32>,\n",
       " <tf.Tensor 'vgg_16/fc7/kernel/Regularizer/l2_regularizer:0' shape=() dtype=float32>,\n",
       " <tf.Tensor 'vgg_16/fc8/kernel/Regularizer/l2_regularizer:0' shape=() dtype=float32>]"
      ]
     },
     "execution_count": 7,
     "metadata": {},
     "output_type": "execute_result"
    }
   ],
   "source": [
    "tf.get_collection(ops.GraphKeys.REGULARIZATION_LOSSES)"
   ]
  },
  {
   "cell_type": "code",
   "execution_count": 8,
   "metadata": {},
   "outputs": [],
   "source": [
    "tensor = tf.get_default_graph().get_tensor_by_name('vgg_16/conv1/conv1_1/kernel/Regularizer/l2_regularizer:0')"
   ]
  },
  {
   "cell_type": "code",
   "execution_count": 9,
   "metadata": {},
   "outputs": [
    {
     "name": "stdout",
     "output_type": "stream",
     "text": [
      "Tensor(\"vgg_16/conv3/conv3_3/Relu:0\", shape=(1, 40, 144, 256), dtype=float32)\n",
      "Tensor(\"vgg_16/conv4/conv4_3/Relu:0\", shape=(1, 20, 72, 512), dtype=float32)\n",
      "Tensor(\"vgg_16/conv5/conv5_3/Relu:0\", shape=(1, 10, 36, 512), dtype=float32)\n",
      "Tensor(\"vgg_16/fc6/Relu:0\", shape=(1, 5, 18, 4096), dtype=float32)\n",
      "Tensor(\"vgg_16/fc7/Relu:0\", shape=(1, 5, 18, 4096), dtype=float32)\n"
     ]
    }
   ],
   "source": [
    "print(end_points['vgg_16/conv3/conv3_3'], \n",
    "    end_points['vgg_16/conv4/conv4_3'], \n",
    "    end_points['vgg_16/conv5/conv5_3'],\n",
    "    end_points['vgg_16/fc6'],\n",
    "    end_points['vgg_16/fc7'],sep='\\n')"
   ]
  },
  {
   "cell_type": "code",
   "execution_count": 10,
   "metadata": {
    "collapsed": true
   },
   "outputs": [],
   "source": [
    "decoder = FCNDecoder(end_points, nb_classes=2, scope='decoder')"
   ]
  },
  {
   "cell_type": "code",
   "execution_count": 11,
   "metadata": {
    "collapsed": true
   },
   "outputs": [],
   "source": [
    "tensors_to_connect = OrderedDict()\n",
    "tensors_to_connect[\"vgg_16/fc7\"] = (2,2)\n",
    "tensors_to_connect['vgg_16/conv5/conv5_3'] = (2,2)\n",
    "tensors_to_connect['vgg_16/conv4/conv4_3'] = (8,8)"
   ]
  },
  {
   "cell_type": "code",
   "execution_count": 12,
   "metadata": {},
   "outputs": [],
   "source": [
    "net = decoder.build(tensors_to_connect)"
   ]
  },
  {
   "cell_type": "code",
   "execution_count": 13,
   "metadata": {},
   "outputs": [],
   "source": [
    "assert tuple(tf.get_default_graph().get_tensor_by_name('logit:0').get_shape().as_list()[1:3]) == image_shape"
   ]
  },
  {
   "cell_type": "markdown",
   "metadata": {},
   "source": [
    "## Train"
   ]
  },
  {
   "cell_type": "code",
   "execution_count": 14,
   "metadata": {},
   "outputs": [],
   "source": [
    "trainer = Trainer(nb_classes=2, optimizer=tf.train.AdamOptimizer, learning_rate=5e-6)"
   ]
  },
  {
   "cell_type": "code",
   "execution_count": null,
   "metadata": {},
   "outputs": [
    {
     "name": "stdout",
     "output_type": "stream",
     "text": [
      "pred shape (92160, 2), label shape (92160, 2)\n",
      "reg losses: [<tf.Tensor 'vgg_16/conv1/conv1_1/kernel/Regularizer/l2_regularizer:0' shape=() dtype=float32>, <tf.Tensor 'vgg_16/conv1/conv1_2/kernel/Regularizer/l2_regularizer:0' shape=() dtype=float32>, <tf.Tensor 'vgg_16/conv2/conv2_1/kernel/Regularizer/l2_regularizer:0' shape=() dtype=float32>, <tf.Tensor 'vgg_16/conv2/conv2_2/kernel/Regularizer/l2_regularizer:0' shape=() dtype=float32>, <tf.Tensor 'vgg_16/conv3/conv3_1/kernel/Regularizer/l2_regularizer:0' shape=() dtype=float32>, <tf.Tensor 'vgg_16/conv3/conv3_2/kernel/Regularizer/l2_regularizer:0' shape=() dtype=float32>, <tf.Tensor 'vgg_16/conv3/conv3_3/kernel/Regularizer/l2_regularizer:0' shape=() dtype=float32>, <tf.Tensor 'vgg_16/conv4/conv4_1/kernel/Regularizer/l2_regularizer:0' shape=() dtype=float32>, <tf.Tensor 'vgg_16/conv4/conv4_2/kernel/Regularizer/l2_regularizer:0' shape=() dtype=float32>, <tf.Tensor 'vgg_16/conv4/conv4_3/kernel/Regularizer/l2_regularizer:0' shape=() dtype=float32>, <tf.Tensor 'vgg_16/conv5/conv5_1/kernel/Regularizer/l2_regularizer:0' shape=() dtype=float32>, <tf.Tensor 'vgg_16/conv5/conv5_2/kernel/Regularizer/l2_regularizer:0' shape=() dtype=float32>, <tf.Tensor 'vgg_16/conv5/conv5_3/kernel/Regularizer/l2_regularizer:0' shape=() dtype=float32>, <tf.Tensor 'vgg_16/fc6/kernel/Regularizer/l2_regularizer:0' shape=() dtype=float32>, <tf.Tensor 'vgg_16/fc7/kernel/Regularizer/l2_regularizer:0' shape=() dtype=float32>, <tf.Tensor 'vgg_16/fc8/kernel/Regularizer/l2_regularizer:0' shape=() dtype=float32>, <tf.Tensor 'decoder/Conv/kernel/Regularizer/l2_regularizer:0' shape=() dtype=float32>, <tf.Tensor 'decoder/Conv_1/kernel/Regularizer/l2_regularizer:0' shape=() dtype=float32>, <tf.Tensor 'decoder/Conv_2/kernel/Regularizer/l2_regularizer:0' shape=() dtype=float32>]\n"
     ]
    }
   ],
   "source": [
    "trainer.build(predictions=net, labels=label, decoder_scope='decoder')"
   ]
  },
  {
   "cell_type": "code",
   "execution_count": null,
   "metadata": {},
   "outputs": [
    {
     "name": "stdout",
     "output_type": "stream",
     "text": [
      "INFO:tensorflow:Starting Session.\n",
      "INFO:tensorflow:Saving checkpoint to path /tmp/tf/model.ckpt\n",
      "INFO:tensorflow:Starting Queues.\n",
      "INFO:tensorflow:global_step/sec: 0\n",
      "INFO:tensorflow:Recording summary at step 0.\n",
      "INFO:tensorflow:global step 1: loss = 2.9099 (26.723 sec/step)\n",
      "INFO:tensorflow:global step 2: loss = 2.8973 (34.576 sec/step)\n",
      "INFO:tensorflow:global step 3: loss = 2.9016 (37.676 sec/step)\n",
      "INFO:tensorflow:global_step/sec: 0.0250024\n",
      "INFO:tensorflow:global step 4: loss = 2.8960 (46.908 sec/step)\n",
      "INFO:tensorflow:Recording summary at step 4.\n",
      "INFO:tensorflow:global step 5: loss = 2.8923 (28.722 sec/step)\n",
      "INFO:tensorflow:global step 6: loss = 2.8929 (29.112 sec/step)\n",
      "INFO:tensorflow:global step 7: loss = 2.8876 (24.024 sec/step)\n",
      "INFO:tensorflow:global_step/sec: 0.0321719\n",
      "INFO:tensorflow:Recording summary at step 7.\n",
      "INFO:tensorflow:global step 8: loss = 2.8776 (46.208 sec/step)\n",
      "INFO:tensorflow:global step 9: loss = 2.8817 (23.396 sec/step)\n",
      "INFO:tensorflow:global step 10: loss = 2.8804 (19.939 sec/step)\n",
      "INFO:tensorflow:global step 11: loss = 2.8661 (19.425 sec/step)\n",
      "INFO:tensorflow:global step 12: loss = 2.8691 (21.675 sec/step)\n",
      "INFO:tensorflow:global_step/sec: 0.0431664\n",
      "INFO:tensorflow:Recording summary at step 12.\n",
      "INFO:tensorflow:global step 13: loss = 2.8715 (26.220 sec/step)\n",
      "INFO:tensorflow:global step 14: loss = 2.8591 (19.078 sec/step)\n",
      "INFO:tensorflow:global step 15: loss = 2.8509 (17.695 sec/step)\n",
      "INFO:tensorflow:global step 16: loss = 2.8512 (16.237 sec/step)\n",
      "INFO:tensorflow:global step 17: loss = 2.8550 (20.437 sec/step)\n",
      "INFO:tensorflow:global step 18: loss = 2.8572 (19.154 sec/step)\n",
      "INFO:tensorflow:global_step/sec: 0.0500693\n",
      "INFO:tensorflow:Recording summary at step 18.\n",
      "INFO:tensorflow:global step 19: loss = 2.8466 (28.947 sec/step)\n",
      "INFO:tensorflow:global step 20: loss = 2.8675 (16.134 sec/step)\n",
      "INFO:tensorflow:global step 21: loss = 2.8487 (18.817 sec/step)\n",
      "INFO:tensorflow:global step 22: loss = 2.8622 (18.429 sec/step)\n",
      "INFO:tensorflow:global step 23: loss = 2.8502 (17.217 sec/step)\n",
      "INFO:tensorflow:global step 24: loss = 2.8496 (15.407 sec/step)\n",
      "INFO:tensorflow:Saving checkpoint to path /tmp/tf/model.ckpt\n",
      "INFO:tensorflow:global_step/sec: 0.0499752\n",
      "INFO:tensorflow:global step 25: loss = 2.8324 (24.376 sec/step)\n",
      "INFO:tensorflow:Recording summary at step 25.\n",
      "INFO:tensorflow:global step 26: loss = 2.8534 (37.038 sec/step)\n",
      "INFO:tensorflow:global step 27: loss = 2.8349 (26.442 sec/step)\n",
      "INFO:tensorflow:global step 28: loss = 2.8810 (22.172 sec/step)\n",
      "INFO:tensorflow:global_step/sec: 0.0333552\n",
      "INFO:tensorflow:global step 29: loss = 2.8319 (44.921 sec/step)\n",
      "INFO:tensorflow:Recording summary at step 29.\n",
      "INFO:tensorflow:global step 30: loss = 2.8625 (25.508 sec/step)\n",
      "INFO:tensorflow:global step 31: loss = 2.8213 (36.135 sec/step)\n",
      "INFO:tensorflow:global step 32: loss = 2.8371 (22.086 sec/step)\n",
      "INFO:tensorflow:global_step/sec: 0.033299\n",
      "INFO:tensorflow:global step 33: loss = 2.8252 (28.870 sec/step)\n",
      "INFO:tensorflow:Recording summary at step 33.\n",
      "INFO:tensorflow:global step 34: loss = 2.8398 (21.506 sec/step)\n",
      "INFO:tensorflow:global step 35: loss = 2.8538 (17.674 sec/step)\n",
      "INFO:tensorflow:global step 43: loss = 2.9250 (20.368 sec/step)\n",
      "INFO:tensorflow:global step 44: loss = 2.9938 (30.043 sec/step)\n",
      "INFO:tensorflow:global step 45: loss = 2.9135 (17.378 sec/step)\n",
      "INFO:tensorflow:global_step/sec: 0.0498295\n",
      "INFO:tensorflow:global step 46: loss = 2.9992 (34.622 sec/step)\n",
      "INFO:tensorflow:Recording summary at step 46.\n",
      "INFO:tensorflow:global step 47: loss = 3.0487 (18.998 sec/step)\n",
      "INFO:tensorflow:global step 48: loss = 3.1538 (15.388 sec/step)\n",
      "INFO:tensorflow:global step 49: loss = 3.0336 (16.482 sec/step)\n",
      "INFO:tensorflow:global step 50: loss = 3.2250 (14.566 sec/step)\n",
      "INFO:tensorflow:global step 51: loss = 3.1746 (13.583 sec/step)\n",
      "INFO:tensorflow:global step 52: loss = 3.4511 (15.364 sec/step)\n",
      "INFO:tensorflow:Saving checkpoint to path /tmp/tf/model.ckpt\n",
      "INFO:tensorflow:Recording summary at step 52.\n",
      "INFO:tensorflow:global step 53: loss = 3.3219 (23.492 sec/step)\n",
      "INFO:tensorflow:global step 54: loss = 3.4911 (20.380 sec/step)\n",
      "INFO:tensorflow:global step 55: loss = 3.4513 (16.058 sec/step)\n",
      "INFO:tensorflow:global step 56: loss = 3.5935 (15.893 sec/step)\n",
      "INFO:tensorflow:global step 57: loss = 3.8393 (18.190 sec/step)\n",
      "INFO:tensorflow:global step 58: loss = 3.9075 (15.646 sec/step)\n",
      "INFO:tensorflow:Recording summary at step 58.\n",
      "INFO:tensorflow:global step 59: loss = 3.9486 (51.595 sec/step)\n",
      "INFO:tensorflow:global step 60: loss = 4.4230 (56.439 sec/step)\n",
      "INFO:tensorflow:Recording summary at step 61.\n"
     ]
    },
    {
     "ename": "KeyboardInterrupt",
     "evalue": "",
     "output_type": "error",
     "traceback": [
      "\u001b[0;31m---------------------------------------------------------------------------\u001b[0m",
      "\u001b[0;31mKeyboardInterrupt\u001b[0m                         Traceback (most recent call last)",
      "\u001b[0;32m<ipython-input-16-3a79e16cd900>\u001b[0m in \u001b[0;36m<module>\u001b[0;34m()\u001b[0m\n\u001b[0;32m----> 1\u001b[0;31m \u001b[0mtrainer\u001b[0m\u001b[0;34m.\u001b[0m\u001b[0mtrain\u001b[0m\u001b[0;34m(\u001b[0m\u001b[0miterator\u001b[0m\u001b[0;34m,\u001b[0m \u001b[0massign_op\u001b[0m\u001b[0;34m=\u001b[0m\u001b[0massign_op\u001b[0m\u001b[0;34m,\u001b[0m \u001b[0mfeed_dict\u001b[0m\u001b[0;34m=\u001b[0m\u001b[0mfeed_dict\u001b[0m\u001b[0;34m,\u001b[0m \u001b[0mfilename\u001b[0m\u001b[0;34m=\u001b[0m\u001b[0;34m[\u001b[0m\u001b[0;34m'data/kitti_segmentation.tfrecord'\u001b[0m\u001b[0;34m]\u001b[0m\u001b[0;34m)\u001b[0m\u001b[0;34m\u001b[0m\u001b[0m\n\u001b[0m",
      "\u001b[0;32m~/sdc-segmentation/train.py\u001b[0m in \u001b[0;36mtrain\u001b[0;34m(self, iterator, assign_op, feed_dict, filename, number_of_steps, same_summaries_secs, keep_checkpoint_every_n_hours)\u001b[0m\n\u001b[1;32m     82\u001b[0m                         \u001b[0mnumber_of_steps\u001b[0m\u001b[0;34m=\u001b[0m\u001b[0mnumber_of_steps\u001b[0m\u001b[0;34m,\u001b[0m\u001b[0;34m\u001b[0m\u001b[0m\n\u001b[1;32m     83\u001b[0m                         \u001b[0msave_summaries_secs\u001b[0m\u001b[0;34m=\u001b[0m\u001b[0msame_summaries_secs\u001b[0m\u001b[0;34m,\u001b[0m\u001b[0;34m\u001b[0m\u001b[0m\n\u001b[0;32m---> 84\u001b[0;31m                         saver=saver)\n\u001b[0m",
      "\u001b[0;32m~/anaconda2/envs/py3tf/lib/python3.6/site-packages/tensorflow/contrib/slim/python/slim/learning.py\u001b[0m in \u001b[0;36mtrain\u001b[0;34m(train_op, logdir, train_step_fn, train_step_kwargs, log_every_n_steps, graph, master, is_chief, global_step, number_of_steps, init_op, init_feed_dict, local_init_op, init_fn, ready_op, summary_op, save_summaries_secs, summary_writer, startup_delay_steps, saver, save_interval_secs, sync_optimizer, session_config, trace_every_n_steps)\u001b[0m\n\u001b[1;32m    753\u001b[0m           \u001b[0;32mwhile\u001b[0m \u001b[0;32mnot\u001b[0m \u001b[0msv\u001b[0m\u001b[0;34m.\u001b[0m\u001b[0mshould_stop\u001b[0m\u001b[0;34m(\u001b[0m\u001b[0;34m)\u001b[0m\u001b[0;34m:\u001b[0m\u001b[0;34m\u001b[0m\u001b[0m\n\u001b[1;32m    754\u001b[0m             total_loss, should_stop = train_step_fn(\n\u001b[0;32m--> 755\u001b[0;31m                 sess, train_op, global_step, train_step_kwargs)\n\u001b[0m\u001b[1;32m    756\u001b[0m             \u001b[0;32mif\u001b[0m \u001b[0mshould_stop\u001b[0m\u001b[0;34m:\u001b[0m\u001b[0;34m\u001b[0m\u001b[0m\n\u001b[1;32m    757\u001b[0m               \u001b[0mlogging\u001b[0m\u001b[0;34m.\u001b[0m\u001b[0minfo\u001b[0m\u001b[0;34m(\u001b[0m\u001b[0;34m'Stopping Training.'\u001b[0m\u001b[0;34m)\u001b[0m\u001b[0;34m\u001b[0m\u001b[0m\n",
      "\u001b[0;32m~/anaconda2/envs/py3tf/lib/python3.6/site-packages/tensorflow/contrib/slim/python/slim/learning.py\u001b[0m in \u001b[0;36mtrain_step\u001b[0;34m(sess, train_op, global_step, train_step_kwargs)\u001b[0m\n\u001b[1;32m    486\u001b[0m   total_loss, np_global_step = sess.run([train_op, global_step],\n\u001b[1;32m    487\u001b[0m                                         \u001b[0moptions\u001b[0m\u001b[0;34m=\u001b[0m\u001b[0mtrace_run_options\u001b[0m\u001b[0;34m,\u001b[0m\u001b[0;34m\u001b[0m\u001b[0m\n\u001b[0;32m--> 488\u001b[0;31m                                         run_metadata=run_metadata)\n\u001b[0m\u001b[1;32m    489\u001b[0m   \u001b[0mtime_elapsed\u001b[0m \u001b[0;34m=\u001b[0m \u001b[0mtime\u001b[0m\u001b[0;34m.\u001b[0m\u001b[0mtime\u001b[0m\u001b[0;34m(\u001b[0m\u001b[0;34m)\u001b[0m \u001b[0;34m-\u001b[0m \u001b[0mstart_time\u001b[0m\u001b[0;34m\u001b[0m\u001b[0m\n\u001b[1;32m    490\u001b[0m \u001b[0;34m\u001b[0m\u001b[0m\n",
      "\u001b[0;32m~/anaconda2/envs/py3tf/lib/python3.6/site-packages/tensorflow/python/client/session.py\u001b[0m in \u001b[0;36mrun\u001b[0;34m(self, fetches, feed_dict, options, run_metadata)\u001b[0m\n\u001b[1;32m    893\u001b[0m     \u001b[0;32mtry\u001b[0m\u001b[0;34m:\u001b[0m\u001b[0;34m\u001b[0m\u001b[0m\n\u001b[1;32m    894\u001b[0m       result = self._run(None, fetches, feed_dict, options_ptr,\n\u001b[0;32m--> 895\u001b[0;31m                          run_metadata_ptr)\n\u001b[0m\u001b[1;32m    896\u001b[0m       \u001b[0;32mif\u001b[0m \u001b[0mrun_metadata\u001b[0m\u001b[0;34m:\u001b[0m\u001b[0;34m\u001b[0m\u001b[0m\n\u001b[1;32m    897\u001b[0m         \u001b[0mproto_data\u001b[0m \u001b[0;34m=\u001b[0m \u001b[0mtf_session\u001b[0m\u001b[0;34m.\u001b[0m\u001b[0mTF_GetBuffer\u001b[0m\u001b[0;34m(\u001b[0m\u001b[0mrun_metadata_ptr\u001b[0m\u001b[0;34m)\u001b[0m\u001b[0;34m\u001b[0m\u001b[0m\n",
      "\u001b[0;32m~/anaconda2/envs/py3tf/lib/python3.6/site-packages/tensorflow/python/client/session.py\u001b[0m in \u001b[0;36m_run\u001b[0;34m(self, handle, fetches, feed_dict, options, run_metadata)\u001b[0m\n\u001b[1;32m   1122\u001b[0m     \u001b[0;32mif\u001b[0m \u001b[0mfinal_fetches\u001b[0m \u001b[0;32mor\u001b[0m \u001b[0mfinal_targets\u001b[0m \u001b[0;32mor\u001b[0m \u001b[0;34m(\u001b[0m\u001b[0mhandle\u001b[0m \u001b[0;32mand\u001b[0m \u001b[0mfeed_dict_tensor\u001b[0m\u001b[0;34m)\u001b[0m\u001b[0;34m:\u001b[0m\u001b[0;34m\u001b[0m\u001b[0m\n\u001b[1;32m   1123\u001b[0m       results = self._do_run(handle, final_targets, final_fetches,\n\u001b[0;32m-> 1124\u001b[0;31m                              feed_dict_tensor, options, run_metadata)\n\u001b[0m\u001b[1;32m   1125\u001b[0m     \u001b[0;32melse\u001b[0m\u001b[0;34m:\u001b[0m\u001b[0;34m\u001b[0m\u001b[0m\n\u001b[1;32m   1126\u001b[0m       \u001b[0mresults\u001b[0m \u001b[0;34m=\u001b[0m \u001b[0;34m[\u001b[0m\u001b[0;34m]\u001b[0m\u001b[0;34m\u001b[0m\u001b[0m\n",
      "\u001b[0;32m~/anaconda2/envs/py3tf/lib/python3.6/site-packages/tensorflow/python/client/session.py\u001b[0m in \u001b[0;36m_do_run\u001b[0;34m(self, handle, target_list, fetch_list, feed_dict, options, run_metadata)\u001b[0m\n\u001b[1;32m   1319\u001b[0m     \u001b[0;32mif\u001b[0m \u001b[0mhandle\u001b[0m \u001b[0;32mis\u001b[0m \u001b[0;32mNone\u001b[0m\u001b[0;34m:\u001b[0m\u001b[0;34m\u001b[0m\u001b[0m\n\u001b[1;32m   1320\u001b[0m       return self._do_call(_run_fn, self._session, feeds, fetches, targets,\n\u001b[0;32m-> 1321\u001b[0;31m                            options, run_metadata)\n\u001b[0m\u001b[1;32m   1322\u001b[0m     \u001b[0;32melse\u001b[0m\u001b[0;34m:\u001b[0m\u001b[0;34m\u001b[0m\u001b[0m\n\u001b[1;32m   1323\u001b[0m       \u001b[0;32mreturn\u001b[0m \u001b[0mself\u001b[0m\u001b[0;34m.\u001b[0m\u001b[0m_do_call\u001b[0m\u001b[0;34m(\u001b[0m\u001b[0m_prun_fn\u001b[0m\u001b[0;34m,\u001b[0m \u001b[0mself\u001b[0m\u001b[0;34m.\u001b[0m\u001b[0m_session\u001b[0m\u001b[0;34m,\u001b[0m \u001b[0mhandle\u001b[0m\u001b[0;34m,\u001b[0m \u001b[0mfeeds\u001b[0m\u001b[0;34m,\u001b[0m \u001b[0mfetches\u001b[0m\u001b[0;34m)\u001b[0m\u001b[0;34m\u001b[0m\u001b[0m\n",
      "\u001b[0;32m~/anaconda2/envs/py3tf/lib/python3.6/site-packages/tensorflow/python/client/session.py\u001b[0m in \u001b[0;36m_do_call\u001b[0;34m(self, fn, *args)\u001b[0m\n\u001b[1;32m   1325\u001b[0m   \u001b[0;32mdef\u001b[0m \u001b[0m_do_call\u001b[0m\u001b[0;34m(\u001b[0m\u001b[0mself\u001b[0m\u001b[0;34m,\u001b[0m \u001b[0mfn\u001b[0m\u001b[0;34m,\u001b[0m \u001b[0;34m*\u001b[0m\u001b[0margs\u001b[0m\u001b[0;34m)\u001b[0m\u001b[0;34m:\u001b[0m\u001b[0;34m\u001b[0m\u001b[0m\n\u001b[1;32m   1326\u001b[0m     \u001b[0;32mtry\u001b[0m\u001b[0;34m:\u001b[0m\u001b[0;34m\u001b[0m\u001b[0m\n\u001b[0;32m-> 1327\u001b[0;31m       \u001b[0;32mreturn\u001b[0m \u001b[0mfn\u001b[0m\u001b[0;34m(\u001b[0m\u001b[0;34m*\u001b[0m\u001b[0margs\u001b[0m\u001b[0;34m)\u001b[0m\u001b[0;34m\u001b[0m\u001b[0m\n\u001b[0m\u001b[1;32m   1328\u001b[0m     \u001b[0;32mexcept\u001b[0m \u001b[0merrors\u001b[0m\u001b[0;34m.\u001b[0m\u001b[0mOpError\u001b[0m \u001b[0;32mas\u001b[0m \u001b[0me\u001b[0m\u001b[0;34m:\u001b[0m\u001b[0;34m\u001b[0m\u001b[0m\n\u001b[1;32m   1329\u001b[0m       \u001b[0mmessage\u001b[0m \u001b[0;34m=\u001b[0m \u001b[0mcompat\u001b[0m\u001b[0;34m.\u001b[0m\u001b[0mas_text\u001b[0m\u001b[0;34m(\u001b[0m\u001b[0me\u001b[0m\u001b[0;34m.\u001b[0m\u001b[0mmessage\u001b[0m\u001b[0;34m)\u001b[0m\u001b[0;34m\u001b[0m\u001b[0m\n",
      "\u001b[0;32m~/anaconda2/envs/py3tf/lib/python3.6/site-packages/tensorflow/python/client/session.py\u001b[0m in \u001b[0;36m_run_fn\u001b[0;34m(session, feed_dict, fetch_list, target_list, options, run_metadata)\u001b[0m\n\u001b[1;32m   1304\u001b[0m           return tf_session.TF_Run(session, options,\n\u001b[1;32m   1305\u001b[0m                                    \u001b[0mfeed_dict\u001b[0m\u001b[0;34m,\u001b[0m \u001b[0mfetch_list\u001b[0m\u001b[0;34m,\u001b[0m \u001b[0mtarget_list\u001b[0m\u001b[0;34m,\u001b[0m\u001b[0;34m\u001b[0m\u001b[0m\n\u001b[0;32m-> 1306\u001b[0;31m                                    status, run_metadata)\n\u001b[0m\u001b[1;32m   1307\u001b[0m \u001b[0;34m\u001b[0m\u001b[0m\n\u001b[1;32m   1308\u001b[0m     \u001b[0;32mdef\u001b[0m \u001b[0m_prun_fn\u001b[0m\u001b[0;34m(\u001b[0m\u001b[0msession\u001b[0m\u001b[0;34m,\u001b[0m \u001b[0mhandle\u001b[0m\u001b[0;34m,\u001b[0m \u001b[0mfeed_dict\u001b[0m\u001b[0;34m,\u001b[0m \u001b[0mfetch_list\u001b[0m\u001b[0;34m)\u001b[0m\u001b[0;34m:\u001b[0m\u001b[0;34m\u001b[0m\u001b[0m\n",
      "\u001b[0;31mKeyboardInterrupt\u001b[0m: "
     ]
    }
   ],
   "source": [
    "trainer.train(iterator, assign_op=assign_op, feed_dict=feed_dict, filename=['data/kitti_segmentation.tfrecord'])"
   ]
  },
  {
   "cell_type": "markdown",
   "metadata": {},
   "source": [
    "## Predict"
   ]
  },
  {
   "cell_type": "code",
   "execution_count": null,
   "metadata": {},
   "outputs": [],
   "source": [
    "TRAIN_DIR = \"model_checkpoints/\"\n",
    "with tf.Graph().as_default() as graph:\n",
    "    image_shape = (160,576)\n",
    "    iterator, filename = get_train_inputs(batch_size=100,\n",
    "                                      repeat=False, \n",
    "                                      num_classes=2, \n",
    "                                      image_shape=image_shape)\n",
    "    encoder = SlimModelEncoder(name=\"vgg_16\", num_classes=2, is_training=False)\n",
    "    image, label = iterator.get_next()\n",
    "    assign_op, feed_dict, end_points = encoder.build(image=image, image_shape=image_shape)\n",
    "    # tensors to connect and encoder\n",
    "    decoder = FCNDecoder(end_points, nb_classes=2, scope='decoder')\n",
    "    tensors_to_connect = OrderedDict()\n",
    "    tensors_to_connect[\"vgg_16/fc7\"] = (2,2)\n",
    "    tensors_to_connect['vgg_16/conv5/conv5_3'] = (2,2)\n",
    "    tensors_to_connect['vgg_16/conv4/conv4_3'] = (8,8)\n",
    "    net = decoder.build(tensors_to_connect)\n",
    "    saver = tf.train.Saver()\n",
    "    with tf.Session() as sess:\n",
    "        saver.restore(sess, os.path.join(TRAIN_DIR,\"model.ckpt-10000\"))\n",
    "        input_tensor = graph.get_tensor_by_name('training_data/input:0')\n",
    "        sess.run(iterator.initializer, feed_dict={input_tensor: ['data/kitti_segmentation.tfrecord']})\n",
    "        # inference\n",
    "        print(net)\n",
    "        net = tf.squeeze(net)\n",
    "        out = sess.run(net)\n",
    "        label = sess.run(label)\n",
    "#         # (160, 576, 2)\n",
    "#         pred = tf.argmax(net, axis=2)\n",
    "#         print(pred)\n",
    "#         # (160,576)\n",
    "#         label = sess.run(pred)\n",
    "#         img = sess.run(image)\n",
    "#         plt.imshow(np.uint8(img))\n",
    "#         plt.imshow(label, cmap='jet', alpha=0.5)\n",
    "#         print(label.mean())"
   ]
  },
  {
   "cell_type": "code",
   "execution_count": null,
   "metadata": {},
   "outputs": [],
   "source": [
    "_argmax = np.argmax(label,axis=2)\n",
    "plt.imshow(_argmax)"
   ]
  },
  {
   "cell_type": "code",
   "execution_count": null,
   "metadata": {},
   "outputs": [],
   "source": [
    "_argmax = np.argmax(out,axis=2)\n",
    "plt.imshow(_argmax)"
   ]
  },
  {
   "cell_type": "code",
   "execution_count": null,
   "metadata": {
    "collapsed": true
   },
   "outputs": [],
   "source": []
  }
 ],
 "metadata": {
  "kernelspec": {
   "display_name": "Python 3",
   "language": "python",
   "name": "python3"
  },
  "language_info": {
   "codemirror_mode": {
    "name": "ipython",
    "version": 3
   },
   "file_extension": ".py",
   "mimetype": "text/x-python",
   "name": "python",
   "nbconvert_exporter": "python",
   "pygments_lexer": "ipython3",
   "version": "3.6.2"
  }
 },
 "nbformat": 4,
 "nbformat_minor": 1
}
